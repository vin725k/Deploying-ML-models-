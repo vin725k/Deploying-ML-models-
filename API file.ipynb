{
 "cells": [
  {
   "cell_type": "code",
   "execution_count": 10,
   "metadata": {},
   "outputs": [
    {
     "name": "stdout",
     "output_type": "stream",
     "text": [
      "Predicted result for observation [[3.2 1.1 1.5 2.1]] is: [1]\n"
     ]
    }
   ],
   "source": [
    "\n",
    "import pickle\n",
    "# Import all the packages you need for your model below\n",
    "import numpy as np\n",
    "from sklearn.neighbors import KNeighborsClassifier\n",
    "\n",
    "# Load the model into memory\n",
    "with open('./model.pkl', 'rb') as model_pkl:\n",
    "    knn = pickle.load(model_pkl)\n",
    "\n",
    "# Unseen data (create a new observation for testing)\n",
    "unseen = np.array([[3.2, 1.1, 1.5, 2.1]])\n",
    "result = knn.predict(unseen)\n",
    "\n",
    "# Print result to the console\n",
    "print('Predicted result for observation ' + str(unseen) + ' is: ' + str(result))"
   ]
  },
  {
   "cell_type": "code",
   "execution_count": null,
   "metadata": {},
   "outputs": [],
   "source": [
    "import pickle\n",
    "# Import all the packages you need for your model below\n",
    "import numpy as np\n",
    "import sys\n",
    "from sklearn.neighbors import KNeighborsClassifier\n",
    "# Import Flask for creating API\n",
    "from flask import Flask, request\n",
    "\n",
    "# Load the trained model from current directory\n",
    "with open('./model.pkl', 'rb') as model_pkl:\n",
    "    knn = pickle.load(model_pkl)\n",
    "\n",
    "# Initialise a Flask app\n",
    "app = Flask(__name__)\n",
    "\n",
    "# Create an API endpoint\n",
    "@app.route('/predict')\n",
    "def predict_iris():\n",
    "    # Read all necessary request parameters\n",
    "    sl = request.args.get('sl')\n",
    "    sw = request.args.get('sw')\n",
    "    pl = request.args.get('pl')\n",
    "    pw = request.args.get('pw')\n",
    "\n",
    "    # Use the predict method of the model to \n",
    "    # get the prediction for unseen data\n",
    "    unseen = np.array([[sl, sw, pl, pw]])\n",
    "    result = knn.predict(unseen)\n",
    "    \n",
    "    # return the result back\n",
    "    return 'Predicted result for observation ' + str(unseen) + ' is: ' + str(result)\n",
    "\n",
    "\n",
    "if __name__ == '__main__':\n",
    "    app.run()"
   ]
  },
  {
   "cell_type": "code",
   "execution_count": null,
   "metadata": {},
   "outputs": [],
   "source": []
  },
  {
   "cell_type": "code",
   "execution_count": null,
   "metadata": {},
   "outputs": [],
   "source": []
  },
  {
   "cell_type": "code",
   "execution_count": null,
   "metadata": {},
   "outputs": [],
   "source": []
  },
  {
   "cell_type": "code",
   "execution_count": null,
   "metadata": {},
   "outputs": [],
   "source": []
  },
  {
   "cell_type": "code",
   "execution_count": null,
   "metadata": {},
   "outputs": [],
   "source": []
  }
 ],
 "metadata": {
  "kernelspec": {
   "display_name": "Python 3",
   "language": "python",
   "name": "python3"
  },
  "language_info": {
   "codemirror_mode": {
    "name": "ipython",
    "version": 3
   },
   "file_extension": ".py",
   "mimetype": "text/x-python",
   "name": "python",
   "nbconvert_exporter": "python",
   "pygments_lexer": "ipython3",
   "version": "3.7.6"
  }
 },
 "nbformat": 4,
 "nbformat_minor": 4
}
